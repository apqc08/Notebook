{
 "cells": [
  {
   "cell_type": "markdown",
   "id": "8483e3c9-8bbb-4e16-9038-74412454ab37",
   "metadata": {},
   "source": [
    "# Data Science Toolsand Ecosystem"
   ]
  },
  {
   "cell_type": "markdown",
   "id": "3565bb4a-c7c3-4f4f-80c3-75257b5178f0",
   "metadata": {},
   "source": [
    "In this notebook, Data Science Tools and Ecosystem are summarized."
   ]
  },
  {
   "cell_type": "markdown",
   "id": "07645b21-aaf6-4902-bab6-19e3677448f1",
   "metadata": {},
   "source": [
    "Some of the popular languages that Data Scientists use are:\n",
    "1. Python\n",
    "2. R\n",
    "3. SQL"
   ]
  },
  {
   "cell_type": "markdown",
   "id": "a3421671-ce7a-4b99-8e38-7eac97fb2f9e",
   "metadata": {},
   "source": [
    "Some of the commonly used libraries used by Data Scientists include:\n",
    "1. TensorFlow\n",
    "2. Numpy\n",
    "3. SciPy\n",
    "4. Pandas\n",
    "5. Matplot"
   ]
  },
  {
   "cell_type": "markdown",
   "id": "9f73a33c-495e-4aa3-a1e0-065ab53a9dcc",
   "metadata": {},
   "source": [
    "| Data Science Tools |\n",
    "|----------------------|\n",
    "| Apache Hadoop|\n",
    "| SAS|\n",
    "|Tensor flow|"
   ]
  },
  {
   "cell_type": "markdown",
   "id": "fb47eba6-4f2e-42f6-861c-1f7205ed68b2",
   "metadata": {},
   "source": [
    "### Below are a few examples of evaluating arithmetic expressions in Python.\n"
   ]
  },
  {
   "cell_type": "code",
   "execution_count": 13,
   "id": "4ac482c7-de34-4c6a-b1c4-dea5b1757e39",
   "metadata": {},
   "outputs": [
    {
     "data": {
      "text/plain": [
       "17"
      ]
     },
     "execution_count": 13,
     "metadata": {},
     "output_type": "execute_result"
    }
   ],
   "source": [
    "# This a simple arithmetic expression to mutiply then add integers\n",
    "(3*4)+5"
   ]
  },
  {
   "cell_type": "code",
   "execution_count": 14,
   "id": "071baf7e-7e77-466b-9899-c540b5c0a941",
   "metadata": {},
   "outputs": [
    {
     "data": {
      "text/plain": [
       "3.3333333333333335"
      ]
     },
     "execution_count": 14,
     "metadata": {},
     "output_type": "execute_result"
    }
   ],
   "source": [
    "# This will convert 200 minutes to hours by diving by 60\n",
    "200/60"
   ]
  },
  {
   "cell_type": "markdown",
   "id": "a6af73a5-7707-44bd-99f3-fd4a9695e55b",
   "metadata": {},
   "source": [
    "__Objectives__\n",
    "* List popular languages for Data Science\n",
    "* List popular libraries for data Science\n",
    "* List of well known Data Science Tools\n",
    "* How to Provide comments in the cell"
   ]
  },
  {
   "cell_type": "markdown",
   "id": "6ee294a5-6b8d-4713-9f86-0d872cee983f",
   "metadata": {},
   "source": [
    "## Author\n",
    "Adriana Quijano"
   ]
  },
  {
   "cell_type": "code",
   "execution_count": null,
   "id": "5bc3ffc4-14e9-4bf1-815e-74ac77badfdb",
   "metadata": {},
   "outputs": [],
   "source": []
  }
 ],
 "metadata": {
  "kernelspec": {
   "display_name": "Python 3 (ipykernel)",
   "language": "python",
   "name": "python3"
  },
  "language_info": {
   "codemirror_mode": {
    "name": "ipython",
    "version": 3
   },
   "file_extension": ".py",
   "mimetype": "text/x-python",
   "name": "python",
   "nbconvert_exporter": "python",
   "pygments_lexer": "ipython3",
   "version": "3.12.7"
  }
 },
 "nbformat": 4,
 "nbformat_minor": 5
}
